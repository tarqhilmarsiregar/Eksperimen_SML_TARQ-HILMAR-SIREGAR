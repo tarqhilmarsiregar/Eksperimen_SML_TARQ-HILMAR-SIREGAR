{
 "cells": [
  {
   "cell_type": "code",
   "execution_count": 2,
   "id": "191626fe-75fa-482e-9de8-bee378a4b607",
   "metadata": {},
   "outputs": [
    {
     "name": "stdout",
     "output_type": "stream",
     "text": [
      "Header kolom disimpan ke: data.csv\n",
      "Pipeline disimpan ke: preprocessor_pipeline.joblib\n"
     ]
    }
   ],
   "source": [
    "import pandas as pd\n",
    "from preprocessing import preprocess_data  # file preprocessing.py sudah berisi fungsi yang kamu buat\n",
    "\n",
    "# Muat dataset kamu\n",
    "data = pd.read_csv('Sleep_health_and_lifestyle_dataset.csv')\n",
    "\n",
    "# Panggil fungsi preprocessing\n",
    "X_train, X_test, y_train, y_test = preprocess_data(\n",
    "    data,                            # DataFrame asli kamu\n",
    "    'Sleep Disorder',                # Kolom target\n",
    "    'preprocessor_pipeline.joblib', # Lokasi untuk menyimpan pipeline\n",
    "    'data.csv'               # Lokasi untuk menyimpan nama-nama kolom (tanpa target)\n",
    ")"
   ]
  },
  {
   "cell_type": "code",
   "execution_count": null,
   "id": "ddf3fc69-44a5-4298-8927-0c4d70ff6b77",
   "metadata": {},
   "outputs": [],
   "source": []
  }
 ],
 "metadata": {
  "kernelspec": {
   "display_name": "Python 3 (ipykernel)",
   "language": "python",
   "name": "python3"
  },
  "language_info": {
   "codemirror_mode": {
    "name": "ipython",
    "version": 3
   },
   "file_extension": ".py",
   "mimetype": "text/x-python",
   "name": "python",
   "nbconvert_exporter": "python",
   "pygments_lexer": "ipython3",
   "version": "3.12.7"
  }
 },
 "nbformat": 4,
 "nbformat_minor": 5
}
